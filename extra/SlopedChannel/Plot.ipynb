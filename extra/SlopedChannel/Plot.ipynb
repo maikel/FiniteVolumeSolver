{
 "cells": [
  {
   "cell_type": "code",
   "execution_count": 2,
   "metadata": {},
   "outputs": [],
   "source": [
    "import sys, os\n",
    "\n",
    "# get the absolute path to the FUB FVS-Solver\n",
    "pathname = \"/home/maikel/Development/FiniteVolumeSolver/extra/\"\n",
    "FVS_path = pathname.split('extra')[0]\n",
    "sys.path.append(FVS_path+'/extra/')\n",
    "\n",
    "import amrex.h5_io as io\n"
   ]
  },
  {
   "cell_type": "code",
   "execution_count": 4,
   "metadata": {},
   "outputs": [
    {
     "ename": "KeyError",
     "evalue": "\"Unable to open object (object 'fields' doesn't exist)\"",
     "output_type": "error",
     "traceback": [
      "\u001b[0;31m---------------------------------------------------------------------------\u001b[0m",
      "\u001b[0;31mKeyError\u001b[0m                                  Traceback (most recent call last)",
      "\u001b[1;32m/home/maikel/Development/FiniteVolumeSolver/extra/SlopedChannel/Plot.ipynb Cell 2\u001b[0m in \u001b[0;36m<cell line: 2>\u001b[0;34m()\u001b[0m\n\u001b[1;32m      <a href='vscode-notebook-cell:/home/maikel/Development/FiniteVolumeSolver/extra/SlopedChannel/Plot.ipynb#ch0000004?line=0'>1</a>\u001b[0m h5_filename \u001b[39m=\u001b[39m FVS_path \u001b[39m+\u001b[39m \u001b[39m\"\u001b[39m\u001b[39m/build/ReferenceData/SlopedChannel_new_ConservativeReconstruction_8x8-1.h5\u001b[39m\u001b[39m\"\u001b[39m\n\u001b[0;32m----> <a href='vscode-notebook-cell:/home/maikel/Development/FiniteVolumeSolver/extra/SlopedChannel/Plot.ipynb#ch0000004?line=1'>2</a>\u001b[0m datas, time, extents, \u001b[39mvars\u001b[39m \u001b[39m=\u001b[39m io\u001b[39m.\u001b[39;49mh5_load_spec_timepoint_variable(h5_filename, \u001b[39m0\u001b[39;49m, \u001b[39m\"\u001b[39;49m\u001b[39mDensity\u001b[39;49m\u001b[39m\"\u001b[39;49m)\n",
      "File \u001b[0;32m~/Development/FiniteVolumeSolver//extra/amrex/h5_io.py:30\u001b[0m, in \u001b[0;36mh5_load_spec_timepoint_variable\u001b[0;34m(filename, num, variables)\u001b[0m\n\u001b[1;32m      5\u001b[0m \u001b[39m\"\"\"\u001b[39;00m\n\u001b[1;32m      6\u001b[0m \u001b[39mLoad the with 'variables' specified 2D data from the HDF5 file for a given timepoint.\u001b[39;00m\n\u001b[1;32m      7\u001b[0m \n\u001b[0;32m   (...)\u001b[0m\n\u001b[1;32m     27\u001b[0m \u001b[39m                dictionary that matches the variable names to their index\u001b[39;00m\n\u001b[1;32m     28\u001b[0m \u001b[39m\"\"\"\u001b[39;00m\n\u001b[1;32m     29\u001b[0m file \u001b[39m=\u001b[39m h5py\u001b[39m.\u001b[39mFile(filename, mode\u001b[39m=\u001b[39m\u001b[39m'\u001b[39m\u001b[39mr\u001b[39m\u001b[39m'\u001b[39m, swmr\u001b[39m=\u001b[39m\u001b[39mTrue\u001b[39;00m)\n\u001b[0;32m---> 30\u001b[0m strings \u001b[39m=\u001b[39m \u001b[39mlist\u001b[39m(file[\u001b[39m'\u001b[39;49m\u001b[39mfields\u001b[39;49m\u001b[39m'\u001b[39;49m]\u001b[39m.\u001b[39masstr())\n\u001b[1;32m     31\u001b[0m indices \u001b[39m=\u001b[39m [strings\u001b[39m.\u001b[39mindex(var) \u001b[39mfor\u001b[39;00m var \u001b[39min\u001b[39;00m variables]\n\u001b[1;32m     32\u001b[0m dictionary \u001b[39m=\u001b[39m \u001b[39mdict\u001b[39m( \u001b[39mzip\u001b[39m(variables, \u001b[39mrange\u001b[39m(\u001b[39mlen\u001b[39m(variables))))\n",
      "File \u001b[0;32mh5py/_objects.pyx:54\u001b[0m, in \u001b[0;36mh5py._objects.with_phil.wrapper\u001b[0;34m()\u001b[0m\n",
      "File \u001b[0;32mh5py/_objects.pyx:55\u001b[0m, in \u001b[0;36mh5py._objects.with_phil.wrapper\u001b[0;34m()\u001b[0m\n",
      "File \u001b[0;32m~/.local/lib/python3.10/site-packages/h5py/_hl/group.py:328\u001b[0m, in \u001b[0;36mGroup.__getitem__\u001b[0;34m(self, name)\u001b[0m\n\u001b[1;32m    326\u001b[0m         \u001b[39mraise\u001b[39;00m \u001b[39mValueError\u001b[39;00m(\u001b[39m\"\u001b[39m\u001b[39mInvalid HDF5 object reference\u001b[39m\u001b[39m\"\u001b[39m)\n\u001b[1;32m    327\u001b[0m \u001b[39melif\u001b[39;00m \u001b[39misinstance\u001b[39m(name, (\u001b[39mbytes\u001b[39m, \u001b[39mstr\u001b[39m)):\n\u001b[0;32m--> 328\u001b[0m     oid \u001b[39m=\u001b[39m h5o\u001b[39m.\u001b[39;49mopen(\u001b[39mself\u001b[39;49m\u001b[39m.\u001b[39;49mid, \u001b[39mself\u001b[39;49m\u001b[39m.\u001b[39;49m_e(name), lapl\u001b[39m=\u001b[39;49m\u001b[39mself\u001b[39;49m\u001b[39m.\u001b[39;49m_lapl)\n\u001b[1;32m    329\u001b[0m \u001b[39melse\u001b[39;00m:\n\u001b[1;32m    330\u001b[0m     \u001b[39mraise\u001b[39;00m \u001b[39mTypeError\u001b[39;00m(\u001b[39m\"\u001b[39m\u001b[39mAccessing a group is done with bytes or str, \u001b[39m\u001b[39m\"\u001b[39m\n\u001b[1;32m    331\u001b[0m                     \u001b[39m\"\u001b[39m\u001b[39m not \u001b[39m\u001b[39m{}\u001b[39;00m\u001b[39m\"\u001b[39m\u001b[39m.\u001b[39mformat(\u001b[39mtype\u001b[39m(name)))\n",
      "File \u001b[0;32mh5py/_objects.pyx:54\u001b[0m, in \u001b[0;36mh5py._objects.with_phil.wrapper\u001b[0;34m()\u001b[0m\n",
      "File \u001b[0;32mh5py/_objects.pyx:55\u001b[0m, in \u001b[0;36mh5py._objects.with_phil.wrapper\u001b[0;34m()\u001b[0m\n",
      "File \u001b[0;32mh5py/h5o.pyx:190\u001b[0m, in \u001b[0;36mh5py.h5o.open\u001b[0;34m()\u001b[0m\n",
      "\u001b[0;31mKeyError\u001b[0m: \"Unable to open object (object 'fields' doesn't exist)\""
     ]
    }
   ],
   "source": [
    "h5_filename = FVS_path + \"/build/ReferenceData/SlopedChannel_new_ConservativeReconstruction_8x8-1.h5\"\n",
    "datas, time, extents, vars = io.h5_load_spec_timepoint_variable(h5_filename, 0, \"Density\")"
   ]
  },
  {
   "cell_type": "code",
   "execution_count": null,
   "metadata": {},
   "outputs": [],
   "source": []
  }
 ],
 "metadata": {
  "kernelspec": {
   "display_name": "Python 3.10.4 64-bit",
   "language": "python",
   "name": "python3"
  },
  "language_info": {
   "codemirror_mode": {
    "name": "ipython",
    "version": 3
   },
   "file_extension": ".py",
   "mimetype": "text/x-python",
   "name": "python",
   "nbconvert_exporter": "python",
   "pygments_lexer": "ipython3",
   "version": "3.10.4"
  },
  "orig_nbformat": 2,
  "vscode": {
   "interpreter": {
    "hash": "916dbcbb3f70747c44a77c7bcd40155683ae19c65e1c03b4aa3499c5328201f1"
   }
  }
 },
 "nbformat": 4,
 "nbformat_minor": 2
}
