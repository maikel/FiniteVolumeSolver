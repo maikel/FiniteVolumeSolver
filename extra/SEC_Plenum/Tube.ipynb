{
 "cells": [
  {
   "cell_type": "code",
   "execution_count": 64,
   "metadata": {},
   "outputs": [
    {
     "name": "stderr",
     "output_type": "stream",
     "text": [
      "yt : [INFO     ] 2021-01-05 12:30:08,299 Parameters: current_time              = 0.010000000001\n",
      "yt : [INFO     ] 2021-01-05 12:30:08,299 Parameters: domain_dimensions         = [480   1   1]\n",
      "yt : [INFO     ] 2021-01-05 12:30:08,300 Parameters: domain_left_edge          = [-1.    -0.015  0.   ]\n",
      "yt : [INFO     ] 2021-01-05 12:30:08,300 Parameters: domain_right_edge         = [-0.09   0.015  1.   ]\n",
      "yt : [INFO     ] 2021-01-05 12:30:08,428 Parameters: current_time              = 0.010000000001\n",
      "yt : [INFO     ] 2021-01-05 12:30:08,429 Parameters: domain_dimensions         = [480   1   1]\n",
      "yt : [INFO     ] 2021-01-05 12:30:08,429 Parameters: domain_left_edge          = [-1.    -0.015  0.   ]\n",
      "yt : [INFO     ] 2021-01-05 12:30:08,430 Parameters: domain_right_edge         = [-0.09   0.015  1.   ]\n"
     ]
    },
    {
     "name": "stdout",
     "output_type": "stream",
     "text": [
      "BoxlibGrid_0000\n",
      "[  0%] Reading plotfile /group/ag_klima/SFB1029_C01/SEC_Plenum/Plotfiles/Tube1/plt000000000\n",
      "[100%] Reading plotfile /group/ag_klima/SFB1029_C01/SEC_Plenum/Plotfiles/Tube1/plt000000016\n"
     ]
    }
   ],
   "source": [
    "import yt\n",
    "import os\n",
    "import numpy as np\n",
    "import matplotlib.pyplot as plt\n",
    "\n",
    "def KlebeRichtigZusammen(ad, var):\n",
    "  xs = [float(grid.LeftEdge[0]) for grid in ad.index.grids]\n",
    "  enumerated = list(enumerate(xs))\n",
    "  sorted_keys = [k for (k,v) in sorted(enumerated, key=lambda xs: xs[1])]\n",
    "  grids = [np.array(ad.index.grids[k][var]) for k in sorted_keys]\n",
    "  grids = [x.reshape((x.shape[0],)) for x in grids]\n",
    "  p = np.concatenate(grids)\n",
    "  return p\n",
    "\n",
    "def PrintProgress(i, plotfiles):\n",
    "  ny = len(plotfiles)\n",
    "  progress = int(100.0 * float(i) / (ny - 1))\n",
    "  print('[{:3d}%] Reading plotfile {}'.format(progress, plotfiles[i]))\n",
    "\n",
    "yt.funcs.mylog.setLevel(20)\n",
    "output_dir = '/group/ag_klima/SFB1029_C01/SEC_Plenum/Plotfiles/Tube1'\n",
    "\n",
    "dirs = os.listdir(output_dir)\n",
    "plotfiles = ['{}/{}'.format(output_dir, plt) for plt in dirs]\n",
    "list.sort(plotfiles)\n",
    "plotfiles = plotfiles[0:2]\n",
    "ds = yt.load(plotfiles[1])\n",
    "\n",
    "print(ds.index.grids[0])\n",
    "\n",
    "ad = ds.all_data()\n",
    "p = KlebeRichtigZusammen(ad, 'Pressure')\n",
    "\n",
    "\n",
    "nx = p.shape[0]\n",
    "ny = 2 # len(plotfiles)\n",
    "\n",
    "\n",
    "PrintProgress(0, plotfiles)\n",
    "x0 = ad.index.grids[0].LeftEdge[0]\n",
    "xEnd = ad.index.grids[-1].RightEdge[0]\n",
    "ts = np.zeros((ny,1))\n",
    "ts[0] = ds.current_time\n",
    "imdata = np.zeros(shape=(nx, ny))\n",
    "imdata[:,0] = p\n",
    "\n",
    "# disable logging to prevent spam\n",
    "for i in range(1,ny):\n",
    "  PrintProgress(i, plotfiles)\n",
    "  ds = yt.load(plotfiles[i])\n",
    "  ad = ds.all_data()\n",
    "  p = KlebeRichtigZusammen(ad, 'Pressure')\n",
    "  imdata[:,i] = p\n",
    "  ts[i] = ds.current_time\n"
   ]
  },
  {
   "cell_type": "code",
   "execution_count": 66,
   "metadata": {},
   "outputs": [
    {
     "data": {
      "image/png": "[encoded data removed]",
      "text/plain": "<Figure size 432x288 with 2 Axes>"
     },
     "metadata": {
      "needs_background": "light",
      "transient": {}
     },
     "output_type": "display_data"
    }
   ],
   "source": [
    "import matplotlib.pyplot as plt\n",
    "\n",
    "#plt.plot(imdata[:,1])\n",
    "im = plt.imshow(imdata, interpolation='none', extent=(x0, xEnd, t0, tEnd), aspect='auto')\n",
    "plt.colorbar(im)\n",
    "plt.show()"
   ]
  },
  {
   "cell_type": "code",
   "execution_count": null,
   "metadata": {},
   "outputs": [],
   "source": []
  }
 ],
 "metadata": {
  "kernelspec": {
   "display_name": "Python 3.7.3 64-bit",
   "metadata": {
    "interpreter": {
     "hash": "916dbcbb3f70747c44a77c7bcd40155683ae19c65e1c03b4aa3499c5328201f1"
    }
   },
   "name": "python3"
  },
  "language_info": {
   "codemirror_mode": {
    "name": "ipython",
    "version": 2
   },
   "file_extension": ".py",
   "mimetype": "text/x-python",
   "name": "python",
   "nbconvert_exporter": "python",
   "pygments_lexer": "ipython2",
   "version": "3.7.3-final"
  },
  "orig_nbformat": 2
 },
 "nbformat": 4,
 "nbformat_minor": 2
}