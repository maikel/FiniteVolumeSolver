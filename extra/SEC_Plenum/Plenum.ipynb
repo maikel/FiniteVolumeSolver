{
 "cells": [
  {
   "cell_type": "code",
   "execution_count": 9,
   "metadata": {
    "tags": []
   },
   "outputs": [],
   "source": [
    "import sys\n",
    "sys.path.append('/srv/public/Maikel/FiniteVolumeSolver/extra/')\n",
    "\n",
    "import yt\n",
    "import os\n",
    "import numpy as np\n",
    "import matplotlib.pyplot as plt\n",
    "import amrex.plotfiles as da\n",
    "import itertools\n",
    "\n",
    "valueString = 'Pressure' # which value we want to plot\n",
    "# possible values are: ['Density', 'Energy', 'Momentum_0', 'Momentum_1', 'Pressure', 'Species_0', 'Species_1', 'SpeedOfSound', 'vfrac']\n",
    "\n",
    "# dataPath = \"/srv/public/Maikel/FiniteVolumeSolver/build_2D-Release/SEC_Plenum_TurbineBoundary/\"\n",
    "# dataPath = \"/srv/public/Maikel/FiniteVolumeSolver/build_2D-Release/SEC_Plenum_HLLEM_MinMod/\"\n",
    "# dataPath = \"/srv/public/Maikel/FiniteVolumeSolver/build_2D-Release/SEC_Plenum_HLLEM_Larrouturou_Upwind\"\n",
    "# dataPath = \"/srv/public/Maikel/FiniteVolumeSolver/build_2D-Debug/SEC_Plenum_HLLEM_Larrouturou_Upwind\"\n",
    "# dataPath = \"/srv/public/Maikel/FiniteVolumeSolver/build_2D-Debug/SEC_Plenum_HLLEM_Upwind\"\n",
    "# dataPath = \"/srv/public/Maikel/FiniteVolumeSolver/build_2D-Release/SEC_Plenum_HLLEM_Upwind\"\n",
    "dataPath = \"/group/ag_klima/SFB1029_C01/SEC_Plenum/SEC_Plenum_HLLEM_Larrouturou_MinMod/highres\"\n",
    "outPath = \"/srv/public/Maikel/FiniteVolumeSolver/build_2D-Release/SEC_Plenum/\"\n",
    "plenum_number = 0\n",
    "vfrac_cutoff = 1.0e-16\n",
    "\n",
    "def PrintProgress(i, plotfiles):\n",
    "  ny = len(plotfiles)\n",
    "  progress = int(100.0 * float(i) / (ny - 1))\n",
    "  print('[{:3d}%] Reading plotfile {}'.format(progress, plotfiles[i]))\n",
    "\n",
    "yt.funcs.mylog.setLevel(50)\n",
    "output_dir = dataPath+'/Plotfiles/Plenum%i'%(plenum_number)\n",
    "\n",
    "dirs = os.listdir(output_dir)\n",
    "plotfiles = ['{}/{}'.format(output_dir, plt) for plt in dirs]\n",
    "list.sort(plotfiles)\n",
    "plotfiles = plotfiles[::1]\n",
    "\n",
    "output_path = '{}/Visualization'.format(outPath)\n",
    "os.makedirs(output_path, exist_ok=True)\n",
    "\n",
    "%matplotlib inline\n",
    "for i, plotfile in itertools.dropwhile(lambda (i, plt): i < 81, enumerate(plotfiles)):\n",
    "   #PrintProgress(i, plotfiles)\n",
    "   (p, rho, rhou, rhov, c, vols), current_time, extent = da.load(plotfile, [\"Pressure\", \"Density\", \"Momentum_0\", \"Momentum_1\", \"SpeedOfSound\", 'vfrac'])\n",
    "   f, axs = plt.subplots(nrows=1, ncols=3, figsize=(15, 15))\n",
    "   f.suptitle('Time = {:.2f}'.format(current_time))\n",
    "   # pressure image\n",
    "   p = np.where(vols > 1e-14, p, np.nan)\n",
    "   im_p = axs[0].imshow(p, origin='lower', vmin=0.4, vmax=1.8, interpolation='none', extent=extent, cmap='tab20c')\n",
    "   axs[0].set_title('Pressure')\n",
    "   plt.colorbar(im_p, ax=axs[0])\n",
    "   # temperature image\n",
    "   T = p / rho\n",
    "   im_T = axs[1].imshow(T, origin='lower', vmin=1.0, vmax=2.0, interpolation='none', extent=extent)\n",
    "   axs[1].set_title('Temperature')\n",
    "   plt.colorbar(im_T, ax=axs[1])\n",
    "   # velocity field\n",
    "   u = np.where(vols > 1e-14, rhou / rho, np.nan)\n",
    "   v = np.where(vols > 1e-14, rhov / rho, np.nan)\n",
    "   skip = 5\n",
    "   scale = 0.2\n",
    "   axs[2].quiver(u[::skip,::skip], v[::skip,::skip], scale=scale, units='xy')\n",
    "   axs[2].set_title('Velocity Field')\n",
    "   f.savefig('{}/Figure{:04d}.png'.format(output_path, i))\n",
    "   f.clear()\n",
    "   plt.close(f)"
   ]
  },
  {
   "cell_type": "code",
   "execution_count": null,
   "metadata": {},
   "outputs": [],
   "source": []
  }
 ],
 "metadata": {
  "kernelspec": {
   "display_name": "Python 3.7.3 64-bit",
   "metadata": {
    "interpreter": {
     "hash": "31f2aee4e71d21fbe5cf8b01ff0e069b9275f58929596ceb00d14d90e3e16cd6"
    }
   },
   "name": "python3"
  },
  "language_info": {
   "codemirror_mode": {
    "name": "ipython",
    "version": 3
   },
   "file_extension": ".py",
   "mimetype": "text/x-python",
   "name": "python",
   "nbconvert_exporter": "python",
   "pygments_lexer": "ipython3",
   "version": "3.7.3"
  },
  "orig_nbformat": 2
 },
 "nbformat": 4,
 "nbformat_minor": 2
}