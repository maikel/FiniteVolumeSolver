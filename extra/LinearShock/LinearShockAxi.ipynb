{
 "metadata": {
  "language_info": {
   "codemirror_mode": {
    "name": "ipython",
    "version": 3
   },
   "file_extension": ".py",
   "mimetype": "text/x-python",
   "name": "python",
   "nbconvert_exporter": "python",
   "pygments_lexer": "ipython3",
   "version": "3.7.3-final"
  },
  "orig_nbformat": 2,
  "kernelspec": {
   "name": "Python 3.7.3 64-bit",
   "display_name": "Python 3.7.3 64-bit",
   "metadata": {
    "interpreter": {
     "hash": "31f2aee4e71d21fbe5cf8b01ff0e069b9275f58929596ceb00d14d90e3e16cd6"
    }
   }
  }
 },
 "nbformat": 4,
 "nbformat_minor": 2,
 "cells": [
  {
   "cell_type": "code",
   "execution_count": 72,
   "metadata": {
    "tags": []
   },
   "outputs": [],
   "source": [
    "import h5py\n",
    "import numpy as np\n",
    "\n",
    "os.environ['HDF5_USE_FILE_LOCKING'] = 'TRUE'\n",
    "\n",
    "def GetSize(path):\n",
    "    file = h5py.File(path, mode='r')\n",
    "    n = file[\"times\"].shape[0]\n",
    "    file.close()\n",
    "    return n\n",
    "\n",
    "def Load(path, chunk=[]):\n",
    "    # @brief Reads grid data and time data from a specified hdf5 file.\n",
    "    # @param path The path of the HDF5 file\n",
    "    # @param dataset A string name of the main dataset containing the states data\n",
    "    # @param times A string name of the time dataset containing all time points\n",
    "    # @param chunk An optional [start, end] list that specifies how many time steps to load\n",
    "    file = h5py.File(path, \"r\")\n",
    "    if chunk:\n",
    "        data_array = np.array(file['data'][chunk[0]:chunk[1],0,:,:])\n",
    "        time_array = np.array(file['times'][chunk[0]:chunk[1]])\n",
    "    else:\n",
    "        data_array = np.array(file['data'][:, 0, :, :])\n",
    "        time_array = np.array(file['times'])\n",
    "    file.close()\n",
    "    return data_array #, time_array)\n",
    "\n",
    "path = '/home/maikel/Development/FiniteVolumeSolver/build_2D-Release/ReferenceData/LinearShockAxi_256x2.h5'\n",
    "file = h5py.File(path, mode='r')\n",
    "data = np.array(file['data'][:, 0, :, :])\n",
    "datau = np.array(file['data'][:, 1, :, :])\n",
    "times = np.array(file['times'])\n",
    "dx = file['data'].attrs['cell_size']\n",
    "xlower = file['data'].attrs['xlower']\n",
    "file.close()"
   ]
  },
  {
   "cell_type": "code",
   "execution_count": 73,
   "metadata": {
    "tags": []
   },
   "outputs": [
    {
     "output_type": "stream",
     "name": "stdout",
     "text": "(41, 512, 256)\n"
    }
   ],
   "source": [
    "print(data.shape)"
   ]
  },
  {
   "cell_type": "code",
   "execution_count": 76,
   "metadata": {
    "tags": []
   },
   "outputs": [
    {
     "output_type": "display_data",
     "data": {
      "text/plain": "<Figure size 1080x504 with 0 Axes>"
     },
     "metadata": {}
    },
    {
     "output_type": "display_data",
     "data": {
      "text/plain": "<Figure size 1080x504 with 0 Axes>"
     },
     "metadata": {}
    },
    {
     "output_type": "display_data",
     "data": {
      "text/plain": "<Figure size 1080x504 with 0 Axes>"
     },
     "metadata": {}
    },
    {
     "output_type": "display_data",
     "data": {
      "text/plain": "<Figure size 1080x504 with 0 Axes>"
     },
     "metadata": {}
    },
    {
     "output_type": "display_data",
     "data": {
      "text/plain": "<Figure size 1080x504 with 0 Axes>"
     },
     "metadata": {}
    },
    {
     "output_type": "display_data",
     "data": {
      "text/plain": "<Figure size 1080x504 with 0 Axes>"
     },
     "metadata": {}
    },
    {
     "output_type": "display_data",
     "data": {
      "text/plain": "<Figure size 1080x504 with 0 Axes>"
     },
     "metadata": {}
    },
    {
     "output_type": "display_data",
     "data": {
      "text/plain": "<Figure size 1080x504 with 0 Axes>"
     },
     "metadata": {}
    },
    {
     "output_type": "display_data",
     "data": {
      "text/plain": "<Figure size 1080x504 with 0 Axes>"
     },
     "metadata": {}
    },
    {
     "output_type": "display_data",
     "data": {
      "text/plain": "<Figure size 1080x504 with 0 Axes>"
     },
     "metadata": {}
    },
    {
     "output_type": "display_data",
     "data": {
      "text/plain": "<Figure size 1080x504 with 0 Axes>"
     },
     "metadata": {}
    },
    {
     "output_type": "display_data",
     "data": {
      "text/plain": "<Figure size 1080x504 with 0 Axes>"
     },
     "metadata": {}
    },
    {
     "output_type": "display_data",
     "data": {
      "text/plain": "<Figure size 1080x504 with 0 Axes>"
     },
     "metadata": {}
    },
    {
     "output_type": "display_data",
     "data": {
      "text/plain": "<Figure size 1080x504 with 0 Axes>"
     },
     "metadata": {}
    },
    {
     "output_type": "display_data",
     "data": {
      "text/plain": "<Figure size 1080x504 with 0 Axes>"
     },
     "metadata": {}
    },
    {
     "output_type": "display_data",
     "data": {
      "text/plain": "<Figure size 1080x504 with 0 Axes>"
     },
     "metadata": {}
    },
    {
     "output_type": "display_data",
     "data": {
      "text/plain": "<Figure size 1080x504 with 0 Axes>"
     },
     "metadata": {}
    },
    {
     "output_type": "display_data",
     "data": {
      "text/plain": "<Figure size 1080x504 with 0 Axes>"
     },
     "metadata": {}
    },
    {
     "output_type": "display_data",
     "data": {
      "text/plain": "<Figure size 1080x504 with 0 Axes>"
     },
     "metadata": {}
    },
    {
     "output_type": "display_data",
     "data": {
      "text/plain": "<Figure size 1080x504 with 0 Axes>"
     },
     "metadata": {}
    },
    {
     "output_type": "display_data",
     "data": {
      "text/plain": "<Figure size 1080x504 with 0 Axes>"
     },
     "metadata": {}
    },
    {
     "output_type": "display_data",
     "data": {
      "text/plain": "<Figure size 1080x504 with 0 Axes>"
     },
     "metadata": {}
    },
    {
     "output_type": "display_data",
     "data": {
      "text/plain": "<Figure size 1080x504 with 0 Axes>"
     },
     "metadata": {}
    },
    {
     "output_type": "display_data",
     "data": {
      "text/plain": "<Figure size 1080x504 with 0 Axes>"
     },
     "metadata": {}
    },
    {
     "output_type": "display_data",
     "data": {
      "text/plain": "<Figure size 1080x504 with 0 Axes>"
     },
     "metadata": {}
    },
    {
     "output_type": "display_data",
     "data": {
      "text/plain": "<Figure size 1080x504 with 0 Axes>"
     },
     "metadata": {}
    },
    {
     "output_type": "display_data",
     "data": {
      "text/plain": "<Figure size 1080x504 with 0 Axes>"
     },
     "metadata": {}
    },
    {
     "output_type": "display_data",
     "data": {
      "text/plain": "<Figure size 1080x504 with 0 Axes>"
     },
     "metadata": {}
    },
    {
     "output_type": "display_data",
     "data": {
      "text/plain": "<Figure size 1080x504 with 0 Axes>"
     },
     "metadata": {}
    },
    {
     "output_type": "display_data",
     "data": {
      "text/plain": "<Figure size 1080x504 with 0 Axes>"
     },
     "metadata": {}
    },
    {
     "output_type": "display_data",
     "data": {
      "text/plain": "<Figure size 1080x504 with 0 Axes>"
     },
     "metadata": {}
    },
    {
     "output_type": "display_data",
     "data": {
      "text/plain": "<Figure size 1080x504 with 0 Axes>"
     },
     "metadata": {}
    },
    {
     "output_type": "display_data",
     "data": {
      "text/plain": "<Figure size 1080x504 with 0 Axes>"
     },
     "metadata": {}
    },
    {
     "output_type": "display_data",
     "data": {
      "text/plain": "<Figure size 1080x504 with 0 Axes>"
     },
     "metadata": {}
    },
    {
     "output_type": "display_data",
     "data": {
      "text/plain": "<Figure size 1080x504 with 0 Axes>"
     },
     "metadata": {}
    },
    {
     "output_type": "display_data",
     "data": {
      "text/plain": "<Figure size 1080x504 with 0 Axes>"
     },
     "metadata": {}
    },
    {
     "output_type": "display_data",
     "data": {
      "text/plain": "<Figure size 1080x504 with 0 Axes>"
     },
     "metadata": {}
    },
    {
     "output_type": "display_data",
     "data": {
      "text/plain": "<Figure size 1080x504 with 0 Axes>"
     },
     "metadata": {}
    },
    {
     "output_type": "display_data",
     "data": {
      "text/plain": "<Figure size 1080x504 with 0 Axes>"
     },
     "metadata": {}
    },
    {
     "output_type": "display_data",
     "data": {
      "text/plain": "<Figure size 1080x504 with 0 Axes>"
     },
     "metadata": {}
    },
    {
     "output_type": "display_data",
     "data": {
      "text/plain": "<Figure size 1080x504 with 0 Axes>"
     },
     "metadata": {}
    }
   ],
   "source": [
    "import matplotlib.pyplot as plt\n",
    "import os\n",
    "\n",
    "\n",
    "nx = [data.shape[1], data.shape[2]]\n",
    "xupper = xlower + dx * nx\n",
    "\n",
    "vmin = None #0.4\n",
    "vmax = None #2.0\n",
    "\n",
    "outpath = '/home/maikel/Temp_256_s'\n",
    "os.makedirs(outpath, exist_ok=True)\n",
    "\n",
    "\n",
    "for n in range(data.shape[0]):\n",
    "    rho = np.array(data[n,:,:])\n",
    "    # drho_dx = np.gradient(rho, 0)\n",
    "    # drho = np.sqrt(drho_dx * drho_dx + drho_dy * drho_dy)\n",
    "    u = rhou / rho\n",
    "    nticks = 5\n",
    "\n",
    "    real_x = np.around(np.linspace(xlower[0], xupper[0], nticks, endpoint=True), 3)\n",
    "    real_y = np.around(np.linspace(xlower[1], xupper[1], nticks, endpoint=True), 3)\n",
    "\n",
    "    dxt = [int(nx[0] / (nticks - 1)), int(nx[1] / (nticks - 1))]\n",
    "    xticks = list(range(0, nx[0] + 1, dxt[0]))\n",
    "    yticks = list(range(0, nx[1] + 1, dxt[1]))\n",
    "    \n",
    "    imdata = np.log(1.0 + np.reshape(rho, [nx[1], nx[0]]))\n",
    "    f, ax = plt.subplots(figsize=[15, 7])\n",
    "    if vmin is not None:\n",
    "        ax.imshow(imdata, origin='lower', vmin=vmin, vmax=vmax)\n",
    "    else:\n",
    "        ax.imshow(imdata, origin='lower')\n",
    "    ax.set_xticks(xticks)\n",
    "    ax.set_xticklabels(real_x)\n",
    "    ax.set_yticks(yticks)\n",
    "    ax.set_yticklabels(real_y)\n",
    "    ax.set_title('Time: {:.3}s'.format(times[n]))\n",
    "    f.savefig('{}/Velocity_{}.png'.format(outpath, n))\n",
    "    f.clf()"
   ]
  },
  {
   "cell_type": "code",
   "execution_count": null,
   "metadata": {},
   "outputs": [],
   "source": []
  }
 ]
}