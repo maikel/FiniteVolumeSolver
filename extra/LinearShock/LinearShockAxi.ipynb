{
 "metadata": {
  "language_info": {
   "codemirror_mode": {
    "name": "ipython",
    "version": 3
   },
   "file_extension": ".py",
   "mimetype": "text/x-python",
   "name": "python",
   "nbconvert_exporter": "python",
   "pygments_lexer": "ipython3",
   "version": "3.7.3-final"
  },
  "orig_nbformat": 2,
  "kernelspec": {
   "name": "Python 3.7.3 64-bit",
   "display_name": "Python 3.7.3 64-bit",
   "metadata": {
    "interpreter": {
     "hash": "31f2aee4e71d21fbe5cf8b01ff0e069b9275f58929596ceb00d14d90e3e16cd6"
    }
   }
  }
 },
 "nbformat": 4,
 "nbformat_minor": 2,
 "cells": [
  {
   "cell_type": "code",
   "execution_count": 188,
   "metadata": {
    "tags": []
   },
   "outputs": [],
   "source": [
    "import h5py\n",
    "import numpy as np\n",
    "\n",
    "os.environ['HDF5_USE_FILE_LOCKING'] = 'TRUE'\n",
    "\n",
    "def GetSize(path):\n",
    "    file = h5py.File(path, mode='r')\n",
    "    n = file[\"times\"].shape[0]\n",
    "    file.close()\n",
    "    return n\n",
    "\n",
    "def Load(path, chunk=[]):\n",
    "    # @brief Reads grid data and time data from a specified hdf5 file.\n",
    "    # @param path The path of the HDF5 file\n",
    "    # @param dataset A string name of the main dataset containing the states data\n",
    "    # @param times A string name of the time dataset containing all time points\n",
    "    # @param chunk An optional [start, end] list that specifies how many time steps to load\n",
    "    file = h5py.File(path, \"r\")\n",
    "    if chunk:\n",
    "        data_array = np.array(file['data'][chunk[0]:chunk[1],0,:,:])\n",
    "        time_array = np.array(file['times'][chunk[0]:chunk[1]])\n",
    "    else:\n",
    "        data_array = np.array(file['data'][:, 0, :, :])\n",
    "        time_array = np.array(file['times'])\n",
    "    file.close()\n",
    "    return data_array #, time_array)\n",
    "\n",
    "ref_ = 'HLLE'\n",
    "reconstruction = 'Characteristics'\n",
    "\n",
    "f = 2\n",
    "bnx = 100\n",
    "bny = 70\n",
    "\n",
    "path = '/srv/public/Maikel/FiniteVolumeSolver/build_2D-Release/ReferenceData/SlopedChannel_{}_{}x{}-1.h5'.format(reconstruction, bnx*f, bny*f)\n",
    "ref_path = '/srv/public/Maikel/FiniteVolumeSolver/build_2D-Release/ReferenceData/SlopedChannel_{}_{}x{}-1.h5'.format(ref_, bnx*f, bny*f)\n",
    "file = h5py.File(path, mode='r')\n",
    "data = np.array(file['data'][:, 0, :, :])\n",
    "datau = np.array(file['data'][:, 1, :, :])\n",
    "times = np.array(file['times'])\n",
    "dx = file['data'].attrs['cell_size']\n",
    "xlower = file['data'].attrs['xlower']\n",
    "file.close()\n",
    "\n",
    "file = h5py.File(ref_path, mode='r')\n",
    "ref_data = np.array(file['data'][:, 0, :, :])\n",
    "file.close()"
   ]
  },
  {
   "cell_type": "code",
   "execution_count": 189,
   "metadata": {
    "tags": []
   },
   "outputs": [
    {
     "output_type": "stream",
     "name": "stdout",
     "text": [
      "(16, 200, 140)\n(1, 200, 140)\n"
     ]
    }
   ],
   "source": [
    "print(data.shape)\n",
    "print(ref_data.shape)"
   ]
  },
  {
   "cell_type": "code",
   "execution_count": 187,
   "metadata": {
    "tags": []
   },
   "outputs": [
    {
     "output_type": "display_data",
     "data": {
      "text/plain": "<Figure size 432x288 with 0 Axes>"
     },
     "metadata": {}
    },
    {
     "output_type": "display_data",
     "data": {
      "text/plain": "<Figure size 432x288 with 0 Axes>"
     },
     "metadata": {}
    },
    {
     "output_type": "display_data",
     "data": {
      "text/plain": "<Figure size 432x288 with 0 Axes>"
     },
     "metadata": {}
    },
    {
     "output_type": "display_data",
     "data": {
      "text/plain": "<Figure size 432x288 with 0 Axes>"
     },
     "metadata": {}
    },
    {
     "output_type": "display_data",
     "data": {
      "text/plain": "<Figure size 432x288 with 0 Axes>"
     },
     "metadata": {}
    },
    {
     "output_type": "display_data",
     "data": {
      "text/plain": "<Figure size 432x288 with 0 Axes>"
     },
     "metadata": {}
    },
    {
     "output_type": "display_data",
     "data": {
      "text/plain": "<Figure size 432x288 with 0 Axes>"
     },
     "metadata": {}
    },
    {
     "output_type": "display_data",
     "data": {
      "text/plain": "<Figure size 432x288 with 0 Axes>"
     },
     "metadata": {}
    },
    {
     "output_type": "display_data",
     "data": {
      "text/plain": "<Figure size 432x288 with 0 Axes>"
     },
     "metadata": {}
    },
    {
     "output_type": "display_data",
     "data": {
      "text/plain": "<Figure size 432x288 with 0 Axes>"
     },
     "metadata": {}
    },
    {
     "output_type": "display_data",
     "data": {
      "text/plain": "<Figure size 432x288 with 0 Axes>"
     },
     "metadata": {}
    },
    {
     "output_type": "display_data",
     "data": {
      "text/plain": "<Figure size 432x288 with 0 Axes>"
     },
     "metadata": {}
    },
    {
     "output_type": "display_data",
     "data": {
      "text/plain": "<Figure size 432x288 with 0 Axes>"
     },
     "metadata": {}
    },
    {
     "output_type": "display_data",
     "data": {
      "text/plain": "<Figure size 432x288 with 0 Axes>"
     },
     "metadata": {}
    },
    {
     "output_type": "display_data",
     "data": {
      "text/plain": "<Figure size 432x288 with 0 Axes>"
     },
     "metadata": {}
    },
    {
     "output_type": "display_data",
     "data": {
      "text/plain": "<Figure size 432x288 with 0 Axes>"
     },
     "metadata": {}
    }
   ],
   "source": [
    "import matplotlib.pyplot as plt\n",
    "import os\n",
    "\n",
    "\n",
    "nx = [data.shape[1], data.shape[2]]\n",
    "xupper = xlower + dx * nx\n",
    "\n",
    "vmin = None #0.4\n",
    "vmax = None #2.0\n",
    "\n",
    "outpath = '/srv/public/Maikel/FiniteVolumeSolver/extra/{}'.format(reconstruction)\n",
    "os.makedirs(outpath, exist_ok=True)\n",
    "\n",
    "\n",
    "for n in range(data.shape[0]):\n",
    "# for n in range(1):\n",
    "    rho = np.array(data[n,:,:]) # np.abs(np.array(data[n,:,:]) - ref_data)\n",
    "    # drho_dx = np.gradient(rho, 0)\n",
    "    # drho = np.sqrt(drho_dx * drho_dx + drho_dy * drho_dy)\n",
    "    # u = rhou / rho\n",
    "    nticks = 5\n",
    "\n",
    "    real_x = np.around(np.linspace(xlower[0], xupper[0], nticks, endpoint=True), 3)\n",
    "    real_y = np.around(np.linspace(xlower[1], xupper[1], nticks, endpoint=True), 3)\n",
    "\n",
    "    dxt = [int(nx[0] / (nticks - 1)), int(nx[1] / (nticks - 1))]\n",
    "    xticks = list(range(0, nx[0] + 1, dxt[0]))\n",
    "    yticks = list(range(0, nx[1] + 1, dxt[1]))\n",
    "    \n",
    "    imdata = np.log(1.0 + np.reshape(rho, [nx[1], nx[0]]))\n",
    "    f, ax = plt.subplots()\n",
    "    if vmin is not None:\n",
    "        ax.imshow(imdata, origin='lower', vmin=vmin, vmax=vmax, interpolation=None)\n",
    "    else:\n",
    "        ax.imshow(imdata, origin='lower', cmap='jet', interpolation='none')\n",
    "    ax.set_xticks(xticks)\n",
    "    ax.set_xticklabels(real_x)\n",
    "    ax.set_yticks(yticks)\n",
    "    ax.set_yticklabels(real_y)\n",
    "    ax.set_title('Time: {:.3}s'.format(times[n]))\n",
    "    f.savefig('{}/Density_{}.png'.format(outpath, n))\n",
    "    f.clf()"
   ]
  },
  {
   "cell_type": "code",
   "execution_count": 177,
   "metadata": {},
   "outputs": [
    {
     "output_type": "stream",
     "name": "stdout",
     "text": [
      "0.23366024478235503\n0.005349322291493321\n"
     ]
    }
   ],
   "source": [
    "\n",
    "last_step = data[data.shape[0] - 1, :, :]\n",
    "err_inf = np.max(np.abs(ref_data - last_step))\n",
    "err_1 = np.sum(np.abs(ref_data - last_step)) / ref_data.size\n",
    "\n",
    "print(err_inf)\n",
    "print(err_1)"
   ]
  },
  {
   "cell_type": "code",
   "execution_count": 190,
   "metadata": {},
   "outputs": [
    {
     "output_type": "stream",
     "name": "stdout",
     "text": [
      "0.10254106221075121\n0.0013089504458987256\n"
     ]
    }
   ],
   "source": [
    "\n",
    "last_step = data[data.shape[0] - 1, :, :]\n",
    "err_inf = np.max(np.abs(ref_data - last_step))\n",
    "err_1 = np.sum(np.abs(ref_data - last_step)) / ref_data.size\n",
    "\n",
    "print(err_inf)\n",
    "print(err_1)"
   ]
  },
  {
   "cell_type": "code",
   "execution_count": 185,
   "metadata": {},
   "outputs": [
    {
     "output_type": "stream",
     "name": "stdout",
     "text": [
      "1.5647504254993634\n0.004927912927297162\n"
     ]
    }
   ],
   "source": [
    "\n",
    "last_step = data[data.shape[0] - 1, :, :]\n",
    "err_inf = np.max(np.abs(ref_data - last_step))\n",
    "err_1 = np.sum(np.abs(ref_data - last_step)) / ref_data.size\n",
    "\n",
    "print(err_inf)\n",
    "print(err_1)\n"
   ]
  },
  {
   "cell_type": "code",
   "execution_count": 172,
   "metadata": {},
   "outputs": [
    {
     "output_type": "stream",
     "name": "stdout",
     "text": [
      "1.1561143295834477\n1.1687878475379232\n"
     ]
    }
   ],
   "source": [
    "print(0.2314754926480802 / 0.10010925681177296 / 2.0)\n",
    "print(0.10010925681177296 / 0.042826102710879166 / 2.0)"
   ]
  },
  {
   "cell_type": "code",
   "execution_count": 173,
   "metadata": {},
   "outputs": [
    {
     "output_type": "stream",
     "name": "stdout",
     "text": [
      "2.021456954379156\n1.909355589973652\n"
     ]
    }
   ],
   "source": [
    "\n",
    "print(0.005336369011994841 / 0.0013199313990917467 / 2.0)\n",
    "print(0.005336369011994841 / 0.00034935667824376285 / 8.0)"
   ]
  },
  {
   "cell_type": "code",
   "execution_count": 174,
   "metadata": {},
   "outputs": [
    {
     "output_type": "stream",
     "name": "stdout",
     "text": [
      "1.591276252019386\n1.7994186046511629\n"
     ]
    }
   ],
   "source": [
    "print(1.97e-2 / 6.19e-3 / 2.0)\n",
    "print(6.19e-3 / 1.72e-3 / 2.0)"
   ]
  },
  {
   "cell_type": "code",
   "execution_count": 175,
   "metadata": {},
   "outputs": [
    {
     "output_type": "stream",
     "name": "stdout",
     "text": [
      "0.9962121212121212\n1.083743842364532\n"
     ]
    }
   ],
   "source": [
    "print(2.63e-1 / 1.32e-1 / 2.0)\n",
    "print(1.32e-1 / 6.09e-2 / 2.0)"
   ]
  },
  {
   "cell_type": "code",
   "execution_count": null,
   "metadata": {},
   "outputs": [],
   "source": []
  }
 ]
}