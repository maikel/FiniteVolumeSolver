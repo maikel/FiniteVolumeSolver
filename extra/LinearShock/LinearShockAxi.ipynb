{
 "metadata": {
  "language_info": {
   "codemirror_mode": {
    "name": "ipython",
    "version": 3
   },
   "file_extension": ".py",
   "mimetype": "text/x-python",
   "name": "python",
   "nbconvert_exporter": "python",
   "pygments_lexer": "ipython3",
   "version": "3.7.3-final"
  },
  "orig_nbformat": 2,
  "kernelspec": {
   "name": "Python 3.7.3 64-bit",
   "display_name": "Python 3.7.3 64-bit",
   "metadata": {
    "interpreter": {
     "hash": "31f2aee4e71d21fbe5cf8b01ff0e069b9275f58929596ceb00d14d90e3e16cd6"
    }
   }
  }
 },
 "nbformat": 4,
 "nbformat_minor": 2,
 "cells": [
  {
   "cell_type": "code",
   "execution_count": 13,
   "metadata": {
    "tags": []
   },
   "outputs": [
    {
     "output_type": "stream",
     "name": "stdout",
     "text": [
      "[[0.0008177430312497069, 0.0005343429706525793, 0.0003112739544075538], []]\n[[6.817870002378655e-05, 2.8480773878454823e-05, 1.1432689253779732e-05], []]\n[[7.278751375498917e-06, 1.9281286205379577e-06, 4.910369799439262e-07], []]\n(array([0.76518554, 0.85831622]), array([], dtype=float64))\n"
     ]
    }
   ],
   "source": [
    "import h5py\n",
    "import numpy as np\n",
    "\n",
    "os.environ['HDF5_USE_FILE_LOCKING'] = 'TRUE'\n",
    "\n",
    "def GetSize(path):\n",
    "    file = h5py.File(path, mode='r')\n",
    "    n = file[\"times\"].shape[0]\n",
    "    file.close()\n",
    "    return n\n",
    "\n",
    "def Load(path, chunk=[]):\n",
    "    # @brief Reads grid data and time data from a specified hdf5 file.\n",
    "    # @param path The path of the HDF5 file\n",
    "    # @param dataset A string name of the main dataset containing the states data\n",
    "    # @param times A string name of the time dataset containing all time points\n",
    "    # @param chunk An optional [start, end] list that specifies how many time steps to load\n",
    "    file = h5py.File(path, \"r\")\n",
    "    if chunk:\n",
    "        data_array = np.array(file['data'][chunk[0]:chunk[1],0,:,:])\n",
    "        time_array = np.array(file['times'][chunk[0]:chunk[1]])\n",
    "    else:\n",
    "        data_array = np.array(file['data'][:, 0, :, :])\n",
    "        time_array = np.array(file['times'])\n",
    "    file.close()\n",
    "    return data_array #, time_array)\n",
    "\n",
    "ref_ = 'ConservativeNoLimiter'\n",
    "reconstruction = 'ConservativeNoLimiter'\n",
    "reconstruction2 = 'ConservativeMinMod'\n",
    "\n",
    "fs = [1, 2, 4]\n",
    "\n",
    "err_inf = [[], []]\n",
    "err_L1 = [[], []]\n",
    "err_L2 = [[], []]\n",
    "\n",
    "for f in fs:\n",
    "    bnx = 50\n",
    "    bny = 50\n",
    "\n",
    "    new_path = '/srv/public/Maikel/FiniteVolumeSolver/build_2D-Release/ReferenceData/SlopedChannel_new_{}_{}x{}-1.h5'.format(reconstruction, bnx*f, bny*f)\n",
    "    # old_path = '/srv/public/Maikel/FiniteVolumeSolver/build_2D-Release/ReferenceData/SlopedChannel_new_{}_{}x{}-1.h5'.format(reconstruction2, bnx*f, bny*f)\n",
    "    ref_path = '/srv/public/Maikel/FiniteVolumeSolver/build_2D-Release/ReferenceData/SlopedChannel_ref_{}_{}x{}-1.h5'.format(ref_, bnx*f, bny*f)\n",
    "\n",
    "    file = h5py.File(new_path, mode='r')\n",
    "    new_data = np.array(file['data'][:, 0, :, :])\n",
    "    times = np.array(file['times'])\n",
    "    dx = file['data'].attrs['cell_size']\n",
    "    xlower = file['data'].attrs['xlower']\n",
    "    file.close()\n",
    "\n",
    "    # file = h5py.File(old_path, mode='r')\n",
    "    # old_data = np.array(file['data'][:, 0, :, :])\n",
    "    # file.close()\n",
    "\n",
    "    file = h5py.File(ref_path, mode='r')\n",
    "    ref_data = np.array(file['data'][:, 0, :, :])\n",
    "    file.close()\n",
    "\n",
    "    def ComputeError(ref_data, last_step):\n",
    "        err_inf = np.max(np.abs(ref_data - last_step))\n",
    "        err_1 = np.sum(np.abs(ref_data - last_step)) / np.count_nonzero(ref_data)\n",
    "        err_2 = np.sqrt(np.sum((ref_data - last_step)**2)) / np.count_nonzero(ref_data)\n",
    "        return (err_inf, err_1, err_2)\n",
    "\n",
    "    new_last_step = new_data[new_data.shape[0] - 1, :, :]\n",
    "    # old_last_step = old_data[old_data.shape[0] - 1, :, :]\n",
    "\n",
    "    (inf, L1, L2) = ComputeError(ref_data, new_last_step)\n",
    "    err_inf[0].append(inf)\n",
    "    err_L1[0].append(L1)\n",
    "    err_L2[0].append(L2)\n",
    "    # (inf, L1, L2) = ComputeError(ref_data, old_last_step)\n",
    "    # err_inf[1].append(inf)\n",
    "    # err_L1[1].append(L1)\n",
    "    # err_L2[1].append(L2)\n",
    "\n",
    "print(err_inf)\n",
    "print(err_L1)\n",
    "print(err_L2)\n",
    "\n",
    "def ConvergenceRate(xs):\n",
    "    return (0.5 * np.array(xs[0])[0:-1] / np.array(xs[0])[1:], 0.5 * np.array(xs[1])[0:-1] / np.array(xs[1])[1:])\n",
    "\n",
    "print(ConvergenceRate(err_inf))"
   ]
  },
  {
   "cell_type": "code",
   "execution_count": 6,
   "metadata": {
    "tags": []
   },
   "outputs": [
    {
     "output_type": "stream",
     "name": "stdout",
     "text": [
      "[0. 0.]\n[0.1  0.07]\n(2, 100, 70)\n"
     ]
    },
    {
     "output_type": "display_data",
     "data": {
      "text/plain": "<Figure size 720x504 with 2 Axes>",
      "image/png": "[encoded data removed]"
     },
     "metadata": {
      "needs_background": "light"
     }
    },
    {
     "output_type": "display_data",
     "data": {
      "text/plain": "<Figure size 720x504 with 2 Axes>",
      "image/png": "[encoded data removed]"
     },
     "metadata": {
      "needs_background": "light"
     }
    }
   ],
   "source": [
    "import matplotlib.pyplot as plt\n",
    "import os\n",
    "import h5py\n",
    "import numpy as np\n",
    "\n",
    "os.environ['HDF5_USE_FILE_LOCKING'] = 'TRUE'\n",
    "\n",
    "def GetSize(path):\n",
    "    file = h5py.File(path, mode='r')\n",
    "    n = file[\"times\"].shape[0]\n",
    "    file.close()\n",
    "    return n\n",
    "\n",
    "def Load(path, chunk=[]):\n",
    "    # @brief Reads grid data and time data from a specified hdf5 file.\n",
    "    # @param path The path of the HDF5 file\n",
    "    # @param dataset A string name of the main dataset containing the states data\n",
    "    # @param times A string name of the time dataset containing all time points\n",
    "    # @param chunk An optional [start, end] list that specifies how many time steps to load\n",
    "    file = h5py.File(path, \"r\")\n",
    "    if chunk:\n",
    "        data_array = np.array(file['data'][chunk[0]:chunk[1],0,:,:])\n",
    "        time_array = np.array(file['times'][chunk[0]:chunk[1]])\n",
    "    else:\n",
    "        data_array = np.array(file['data'][:, 0, :, :])\n",
    "        time_array = np.array(file['times'])\n",
    "    file.close()\n",
    "    return data_array #, time_array)\n",
    "\n",
    "ref_ = 'ConservativeMinMod'\n",
    "# reconstruction = 'ConservativeNoGradient'\n",
    "reconstruction = 'ConservativeMinMod'\n",
    "\n",
    "f = 2\n",
    "bnx = 50\n",
    "bny = 35\n",
    "\n",
    "new_path = '/srv/public/Maikel/FiniteVolumeSolver/build_2D-Release/ReferenceData/SlopedChannel_new_{}_{}x{}-1.h5'.format(reconstruction, bnx*f, bny*f)\n",
    "file = h5py.File(new_path, mode='r')\n",
    "new_data = np.array(file['data'][:, 0, :, :])\n",
    "times = np.array(file['times'])\n",
    "dx = file['data'].attrs['cell_size']\n",
    "xlower = file['data'].attrs['xlower']\n",
    "file.close()\n",
    "\n",
    "ref_path = '/srv/public/Maikel/FiniteVolumeSolver/build_2D-Release/ReferenceData/SlopedChannel_ref_{}_{}x{}-1.h5'.format(ref_, bnx*f, bny*f)\n",
    "file = h5py.File(ref_path, mode='r')\n",
    "ref_data = np.array(file['data'][:, 0, :, :])\n",
    "file.close()\n",
    "\n",
    "nx = [new_data.shape[1], new_data.shape[2]]\n",
    "xupper = xlower + dx * nx\n",
    "\n",
    "vmin = None #0.4\n",
    "vmax = None #2.0\n",
    "\n",
    "outpath = '/srv/public/Maikel/FiniteVolumeSolver/extra/{}'.format(reconstruction)\n",
    "os.makedirs(outpath, exist_ok=True)\n",
    "\n",
    "\n",
    "print(xlower)\n",
    "print(xupper)\n",
    "print(new_data.shape)\n",
    "\n",
    "# for n in range(new_data.shape[0]):\n",
    "for n in range(0,2):\n",
    "    rho =  np.abs(np.array(new_data[n,:,:]) - ref_data) # np.array(new_data[n,:,:]) # \n",
    "    # drho_dx = np.gradient(rho, 0)\n",
    "    # drho = np.sqrt(drho_dx * drho_dx + drho_dy * drho_dy)\n",
    "    # u = rhou / rho\n",
    "    nticks = 5\n",
    "\n",
    "    real_x = np.around(np.linspace(xlower[0], xupper[0], nticks, endpoint=True), 3)\n",
    "    real_y = np.around(np.linspace(xlower[1], xupper[1], nticks, endpoint=True), 3)\n",
    "\n",
    "    dxt = [int(nx[0] / (nticks - 1)), int(nx[1] / (nticks - 1))]\n",
    "    xticks = list(range(0, nx[0] + 1, dxt[0]))\n",
    "    yticks = list(range(0, nx[1] + 1, dxt[1]))\n",
    "    \n",
    "    imdata = np.reshape(rho, [nx[1], nx[0]])# np.log(1.0 + np.reshape(rho, [nx[1], nx[0]]))\n",
    "    imdata = np.where(imdata == 0.0, np.nan, imdata)\n",
    "    f, ax = plt.subplots(figsize=(10, 7))\n",
    "    if vmin is not None:\n",
    "        im = ax.imshow(imdata, origin='lower', vmin=vmin, vmax=vmax, interpolation='none')\n",
    "    else:\n",
    "        im = ax.imshow(imdata, origin='lower', cmap='jet', interpolation='none')\n",
    "    plt.colorbar(im)\n",
    "    ax.set_xticks(xticks)\n",
    "    ax.set_xticklabels(real_x)\n",
    "    ax.set_yticks(yticks)\n",
    "    ax.set_yticklabels(real_y)\n",
    "    ax.set_title('Time: {:.3}s'.format(times[n]))\n",
    "    plt.show()\n",
    "    f.savefig('{}/Density_{}.png'.format(outpath, n))\n",
    "    # f.clf()"
   ]
  },
  {
   "cell_type": "code",
   "execution_count": null,
   "metadata": {},
   "outputs": [],
   "source": []
  }
 ]
}