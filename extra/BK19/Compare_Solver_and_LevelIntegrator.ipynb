{
 "metadata": {
  "language_info": {
   "codemirror_mode": {
    "name": "ipython",
    "version": 3
   },
   "file_extension": ".py",
   "mimetype": "text/x-python",
   "name": "python",
   "nbconvert_exporter": "python",
   "pygments_lexer": "ipython3",
   "version": "3.7.3-final"
  },
  "orig_nbformat": 2,
  "kernelspec": {
   "name": "python_defaultSpec_1599038584074",
   "display_name": "Python 3.7.3 64-bit"
  }
 },
 "nbformat": 4,
 "nbformat_minor": 2,
 "cells": [
  {
   "cell_type": "code",
   "execution_count": 1,
   "metadata": {},
   "outputs": [],
   "source": [
    "import yt\n",
    "import matplotlib\n",
    "import matplotlib.pyplot as plt\n",
    "\n",
    "import os\n",
    "import shutil\n",
    "import numpy as np"
   ]
  },
  {
   "cell_type": "code",
   "execution_count": 2,
   "metadata": {
    "tags": []
   },
   "outputs": [],
   "source": [
    "yt.funcs.mylog.setLevel(50)\n",
    "\n",
    "FVS_path = '/home/maikel/Development/FiniteVolumeSolver'\n",
    "extra_path = '{}/extra'.format(FVS_path)\n",
    "\n",
    "level_integrator_path = '{}/build_2D-Debug/TravellingVortex_old/Debug'.format(FVS_path)\n",
    "solver_path = '{}/build_2D-Debug/TravellingVortex/Debug'.format(FVS_path)\n",
    "\n",
    "#level_integrator_path = '{}/build_2D-Debug/TravellingVortex_old/Plotfiles'.format(FVS_path)\n",
    "#solver_path = '{}/build_2D-Debug/TravellingVortex/Plotfiles'.format(FVS_path)\n",
    "\n",
    "\n",
    "def LoadFVS(base_dir, step_dir, partname, timestep):\n",
    "  path = os.path.join(base_dir, step_dir, partname+'plt{:09d}'.format(timestep))\n",
    "  shutil.copy2('{}/yt/WarpXHeader'.format(extra_path), path)\n",
    "  shutil.copy2('{}/yt/warpx_job_info'.format(extra_path), path)\n",
    "  return yt.load(path)\n",
    "\n",
    "substeps = [\n",
    "    'BK19_pre-step',\n",
    "    'BK19_advect',\n",
    "    'BK19_advect-backward',\n",
    "    'BK19_advect-backward-forward',\n",
    "    'BK19_advect-backward-forward-advect',\n",
    "    'BK19_advect-backward-forward-advect-backward'\n",
    "]\n"
   ]
  },
  {
   "cell_type": "code",
   "execution_count": 4,
   "metadata": {
    "tags": []
   },
   "outputs": [],
   "source": [
    "def CompareField(dataset1, dataset2, field, abs_tolerance=1e-8):\n",
    "    if (dataset1.domain_dimensions != dataset2.domain_dimensions).all():\n",
    "        return False\n",
    "    dims = dataset1.domain_dimensions\n",
    "\n",
    "    p1 = yt.SlicePlot(dataset1, 'z', field)\n",
    "    p1.set_buff_size([dims[0], dims[1]])\n",
    "    field1 = np.array(p1.frb[field])\n",
    "    \n",
    "    p2 = yt.SlicePlot(dataset2, 'z', field)\n",
    "    p2.set_buff_size([dims[0], dims[1]])\n",
    "    field2 = np.array(p2.frb[field])\n",
    "\n",
    "    dField = field2 - field1\n",
    "    d_norm = np.linalg.norm(dField, np.inf)\n",
    "    if d_norm > abs_tolerance:\n",
    "        print(\"{}:\".format(field))\n",
    "        figs, axs = plt.subplots(1, 3)\n",
    "        axs[0].imshow(field1, origin='lower')\n",
    "        axs[1].imshow(field2, origin='lower')\n",
    "        axs[2].imshow(dField, origin='lower')\n",
    "        plt.show()\n",
    "        print(\"Error norm for field variable '{}' is too large: {}\".format(field, d_norm))\n",
    "        print(dField)\n",
    "        return False\n",
    "    return True\n",
    "\n",
    "def CompareMultipleFields(ds1, ds2, fields):\n",
    "    comparisons = [CompareField(ds1, ds2, field) for field in fields]\n",
    "    return all(comparisons)\n",
    "    \n",
    "\n",
    "fields = {\n",
    "    '': [\"Density\", \"Momentum_0\", \"Momentum_1\", \"PTdensity\", \"PTinverse\"],\n",
    "    'BK19_pre-step': [\"Density\", \"Momentum_0\", \"Momentum_1\", \"PTdensity\", \"PTinverse\", \"pi_nd2cellavg\"],\n",
    "    'BK19_advect': [\"Density\", \"Momentum_0\", \"Momentum_1\", \"PTdensity\", \"PTinverse\", \"pi_nd2cellavg\"],\n",
    "    'BK19_advect-backward': [\"Density\", \"Momentum_0\", \"Momentum_1\", \"PTdensity\", \"PTinverse\", \"Momentum_corr0\", \"Momentum_corr1\", \"alpha_nd2cellavg\", \"pi_nd2cellavg\", \"solution_nd2cellavg\", \"sigma\"],\n",
    "    'BK19_advect-backward-forward': [\"Density\", \"Momentum_0\", \"Momentum_1\", \"PTdensity\", \"PTinverse\", \"div_Pv_nd2cellavg\", \"pi_nd2cellavg\", \"Momentum_corr0\", \"Momentum_corr1\", \"Pi_correction_nd2cellavg\", \"Pu\", \"Pv\"],\n",
    "    'BK19_advect-backward-forward-advect': [\"Density\", \"Momentum_0\", \"Momentum_1\", \"PTdensity\", \"PTinverse\", \"pi_nd2cellavg\", \"Pu\", \"Pv\"],\n",
    "    'BK19_advect-backward-forward-advect-backward': [\"Density\", \"Momentum_0\", \"Momentum_1\", \"PTdensity\", \"PTinverse\", \"Momentum_corr0\", \"Momentum_corr1\", \"alpha_nd2cellavg\", \"pi_nd2cellavg\", \"solution_nd2cellavg\", \"sigma\"],\n",
    "}\n",
    "\n",
    "def CompareSubstep(substep, timestep, partition='partition_0_'):\n",
    "    ds1 = LoadFVS(level_integrator_path, substep, 'partition_0_', timestep)\n",
    "    ds2 = LoadFVS(solver_path, substep, 'partition_0_', timestep)\n",
    "    return CompareMultipleFields(ds1, ds2, fields[substep])"
   ]
  },
  {
   "cell_type": "code",
   "execution_count": 5,
   "metadata": {
    "tags": []
   },
   "outputs": [],
   "source": [
    "for substep in substeps:\n",
    "    print(\"Comparing substep {}\".format(substep))\n",
    "    if not CompareSubstep(substep, 1):\n",
    "        print(\"Failed to compare substep '{}'.\".format(substep))\n",
    "        break"
   ]
  },
  {
   "cell_type": "code",
   "execution_count": null,
   "metadata": {},
   "outputs": [],
   "source": []
  }
 ]
}