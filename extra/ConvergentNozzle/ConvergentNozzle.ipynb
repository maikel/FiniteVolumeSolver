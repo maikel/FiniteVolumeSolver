{
 "cells": [
  {
   "cell_type": "code",
   "execution_count": 2,
   "metadata": {
    "tags": []
   },
   "outputs": [
    {
     "name": "stdout",
     "output_type": "stream",
     "text": [
      "[0, 5]\n"
     ]
    },
    {
     "data": {
      "image/png": "[encoded data removed]",
      "text/plain": "<Figure size 720x504 with 2 Axes>"
     },
     "metadata": {
      "needs_background": "light",
      "transient": {}
     },
     "output_type": "display_data"
    },
    {
     "data": {
      "image/png": "[encoded data removed]",
      "text/plain": "<Figure size 720x504 with 2 Axes>"
     },
     "metadata": {
      "needs_background": "light",
      "transient": {}
     },
     "output_type": "display_data"
    }
   ],
   "source": [
    "import matplotlib.pyplot as plt\n",
    "import os\n",
    "import h5py\n",
    "import numpy as np\n",
    "\n",
    "os.environ['HDF5_USE_FILE_LOCKING'] = 'TRUE'\n",
    "\n",
    "def GetSize(path):\n",
    "    file = h5py.File(path, mode='r')\n",
    "    n = file[\"times\"].shape[0]\n",
    "    file.close()\n",
    "    return n\n",
    "\n",
    "def Load(path, chunk=[]):\n",
    "    # @brief Reads grid data and time data from a specified hdf5 file.\n",
    "    # @param path The path of the HDF5 file\n",
    "    # @param dataset A string name of the main dataset containing the states data\n",
    "    # @param times A string name of the time dataset containing all time points\n",
    "    # @param chunk An optional [start, end] list that specifies how many time steps to load\n",
    "    file = h5py.File(path, \"r\")\n",
    "    if chunk:\n",
    "        data_array = np.array(file['data'][chunk[0]:chunk[1],0,:,:])\n",
    "        time_array = np.array(file['times'][chunk[0]:chunk[1]])\n",
    "    else:\n",
    "        data_array = np.array(file['data'][:, 0, :, :])\n",
    "        time_array = np.array(file['times'])\n",
    "    file.close()\n",
    "    return data_array #, time_array)\n",
    "\n",
    "path = '/home/maikel/Output/ConvergentNozzleAxi.h5'\n",
    "\n",
    "file = h5py.File(path, mode='r')\n",
    "data = np.array(file['data'][:, 0, :, :])\n",
    "alpha = np.array(file['data'][:, -1, :, :])\n",
    "times = np.array(file['times'])\n",
    "dx = file['data'].attrs['cell_size']\n",
    "xlower = file['data'].attrs['xlower']\n",
    "file.close()\n",
    "\n",
    "nx = [data.shape[1], data.shape[2]]\n",
    "xupper = xlower + dx * nx\n",
    "\n",
    "vmin = None #0.4\n",
    "vmax = None #2.0\n",
    "\n",
    "ns = [i for i in range(data.shape[0])]\n",
    "print(ns)\n",
    "for n in ns:\n",
    "    rho = data[n,:,:]\n",
    "    nticks = 5\n",
    "\n",
    "    real_x = np.around(np.linspace(xlower[0], xupper[0], nticks, endpoint=True), 3)\n",
    "    real_y = np.around(np.linspace(xlower[1], xupper[1], nticks, endpoint=True), 3)\n",
    "\n",
    "    dxt = [int(nx[0] / (nticks - 1)), int(nx[1] / (nticks - 1))]\n",
    "    xticks = list(range(0, nx[0] + 1, dxt[0]))\n",
    "    yticks = list(range(0, nx[1] + 1, dxt[1]))\n",
    "    \n",
    "    volfrac = alpha[n, :, :]\n",
    "    imdata = np.reshape(rho, [nx[1], nx[0]])\n",
    "    volfrac = np.reshape(volfrac, [nx[1], nx[0]])# np.log(1.0 + np.reshape(rho, [nx[1], nx[0]]))\n",
    "    imdata = np.where(volfrac == 0.0, np.nan, imdata)\n",
    "    f, ax = plt.subplots(figsize=(10, 7))\n",
    "    if vmin is not None:\n",
    "        im = ax.imshow(imdata, origin='lower', vmin=vmin, vmax=vmax, interpolation='none')\n",
    "    else:\n",
    "        im = ax.imshow(imdata, origin='lower', cmap='jet', interpolation='none')\n",
    "    plt.colorbar(im)\n",
    "    ax.set_xticks(xticks)\n",
    "    ax.set_xticklabels(real_x)\n",
    "    ax.set_yticks(yticks)\n",
    "    ax.set_yticklabels(real_y)\n",
    "    ax.set_title('Time: {:.3}s'.format(times[n]))\n",
    "    plt.show()"
   ]
  },
  {
   "cell_type": "code",
   "execution_count": null,
   "metadata": {},
   "outputs": [],
   "source": []
  }
 ],
 "metadata": {
  "kernelspec": {
   "display_name": "Python 3.7.3 64-bit",
   "metadata": {
    "interpreter": {
     "hash": "31f2aee4e71d21fbe5cf8b01ff0e069b9275f58929596ceb00d14d90e3e16cd6"
    }
   },
   "name": "Python 3.7.3 64-bit"
  },
  "language_info": {
   "codemirror_mode": {
    "name": "ipython",
    "version": 3
   },
   "file_extension": ".py",
   "mimetype": "text/x-python",
   "name": "python",
   "nbconvert_exporter": "python",
   "pygments_lexer": "ipython3",
   "version": "3.7.3-final"
  },
  "orig_nbformat": 2
 },
 "nbformat": 4,
 "nbformat_minor": 2
}